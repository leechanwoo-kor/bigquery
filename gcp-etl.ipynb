{
 "cells": [
  {
   "cell_type": "markdown",
   "metadata": {},
   "source": [
    "## BigQuery 테스트"
   ]
  },
  {
   "cell_type": "code",
   "execution_count": 1,
   "metadata": {},
   "outputs": [],
   "source": [
    "from google.cloud import bigquery\n",
    "from google.cloud import bigquery_storage\n",
    "from google.oauth2 import service_account\n",
    "import os\n",
    "from dotenv import load_dotenv\n",
    "\n",
    "# Load environment variables from .env file\n",
    "load_dotenv()\n",
    "\n",
    "# Get environment variables\n",
    "project_id = os.getenv(\"PROJECT_ID\")\n",
    "credentials_path = os.getenv(\"CREDENTIALS_PATH\")\n",
    "\n",
    "# Local에 저장된 json 파일 불러오기\n",
    "credentials = service_account.Credentials.from_service_account_file(credentials_path)"
   ]
  },
  {
   "cell_type": "code",
   "execution_count": 2,
   "metadata": {},
   "outputs": [
    {
     "name": "stdout",
     "output_type": "stream",
     "text": [
      "     Id  MSSubClass MSZoning  LotFrontage  LotArea Street Alley LotShape  \\\n",
      "0   165          40       RM         40.0     5400   Pave  Pave      Reg   \n",
      "1   590          40       RM         50.0     9100   Pave  None      Reg   \n",
      "2   874          40       RL         60.0    12144   Pave  None      Reg   \n",
      "3  1271          40       RL          NaN    23595   Pave  None      Reg   \n",
      "4  1333          20       RL         67.0     8877   Pave  None      Reg   \n",
      "\n",
      "  LandContour Utilities  ... PoolArea PoolQC Fence MiscFeature MiscVal MoSold  \\\n",
      "0         Lvl    AllPub  ...        0   None  None        None       0     10   \n",
      "1         Lvl    AllPub  ...        0   None  None        Shed     600      8   \n",
      "2         Lvl    AllPub  ...        0   None  None        Othr       0      9   \n",
      "3         Low    AllPub  ...        0   None  None        None       0      4   \n",
      "4         Lvl    AllPub  ...        0   None  None        None       0      5   \n",
      "\n",
      "  YrSold  SaleType  SaleCondition  SalePrice  \n",
      "0   2007        WD         Normal     152000  \n",
      "1   2008        WD         Normal      79500  \n",
      "2   2009        WD         Normal     133000  \n",
      "3   2010        WD         Normal     260000  \n",
      "4   2009        WD         Normal     100000  \n",
      "\n",
      "[5 rows x 81 columns]\n"
     ]
    }
   ],
   "source": [
    "client = bigquery.Client(credentials= credentials, project=project_id)\n",
    "bqstorage_client = bigquery_storage.BigQueryReadClient(credentials=credentials)\n",
    "\n",
    "df = client.query(f'''\n",
    "    SELECT *\n",
    "      FROM `{project_id}.kaggle.train`''').to_dataframe(bqstorage_client=bqstorage_client)\n",
    "\n",
    "print(df.head())"
   ]
  },
  {
   "cell_type": "markdown",
   "metadata": {},
   "source": [
    "### 데이터 가공"
   ]
  },
  {
   "cell_type": "code",
   "execution_count": 3,
   "metadata": {},
   "outputs": [
    {
     "data": {
      "text/plain": [
       "(1460, 62)"
      ]
     },
     "execution_count": 3,
     "metadata": {},
     "output_type": "execute_result"
    }
   ],
   "source": [
    "non_missing_columns = df.columns[df.notna().all()].tolist()\n",
    "df2 = df[non_missing_columns]\n",
    "df2.shape"
   ]
  },
  {
   "cell_type": "markdown",
   "metadata": {},
   "source": [
    "### 가공된 데이터 업로드"
   ]
  },
  {
   "cell_type": "code",
   "execution_count": 4,
   "metadata": {},
   "outputs": [],
   "source": [
    "import pandas_gbq\n",
    "table_id = 'kaggle.transformed_train'\n",
    "pandas_gbq.to_gbq(df2, table_id, project_id=project_id)"
   ]
  }
 ],
 "metadata": {
  "kernelspec": {
   "display_name": "Python 3 (ipykernel)",
   "language": "python",
   "name": "python3"
  },
  "language_info": {
   "codemirror_mode": {
    "name": "ipython",
    "version": 3
   },
   "file_extension": ".py",
   "mimetype": "text/x-python",
   "name": "python",
   "nbconvert_exporter": "python",
   "pygments_lexer": "ipython3",
   "version": "3.10.14"
  }
 },
 "nbformat": 4,
 "nbformat_minor": 4
}
